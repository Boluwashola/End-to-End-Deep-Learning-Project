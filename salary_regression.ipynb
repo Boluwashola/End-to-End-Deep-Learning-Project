{
 "cells": [
  {
   "cell_type": "code",
   "execution_count": 9,
   "id": "47de8048",
   "metadata": {},
   "outputs": [],
   "source": [
    "import pandas as pd\n",
    "import pickle\n",
    "from sklearn.model_selection import train_test_split\n",
    "from sklearn.preprocessing import StandardScaler, LabelEncoder, OneHotEncoder"
   ]
  },
  {
   "cell_type": "code",
   "execution_count": 10,
   "id": "efcd67cb",
   "metadata": {},
   "outputs": [
    {
     "data": {
      "text/html": [
       "<div>\n",
       "<style scoped>\n",
       "    .dataframe tbody tr th:only-of-type {\n",
       "        vertical-align: middle;\n",
       "    }\n",
       "\n",
       "    .dataframe tbody tr th {\n",
       "        vertical-align: top;\n",
       "    }\n",
       "\n",
       "    .dataframe thead th {\n",
       "        text-align: right;\n",
       "    }\n",
       "</style>\n",
       "<table border=\"1\" class=\"dataframe\">\n",
       "  <thead>\n",
       "    <tr style=\"text-align: right;\">\n",
       "      <th></th>\n",
       "      <th>RowNumber</th>\n",
       "      <th>CustomerId</th>\n",
       "      <th>Surname</th>\n",
       "      <th>CreditScore</th>\n",
       "      <th>Geography</th>\n",
       "      <th>Gender</th>\n",
       "      <th>Age</th>\n",
       "      <th>Tenure</th>\n",
       "      <th>Balance</th>\n",
       "      <th>NumOfProducts</th>\n",
       "      <th>HasCrCard</th>\n",
       "      <th>IsActiveMember</th>\n",
       "      <th>EstimatedSalary</th>\n",
       "      <th>Exited</th>\n",
       "    </tr>\n",
       "  </thead>\n",
       "  <tbody>\n",
       "    <tr>\n",
       "      <th>0</th>\n",
       "      <td>1</td>\n",
       "      <td>15634602</td>\n",
       "      <td>Hargrave</td>\n",
       "      <td>619</td>\n",
       "      <td>France</td>\n",
       "      <td>Female</td>\n",
       "      <td>42</td>\n",
       "      <td>2</td>\n",
       "      <td>0.00</td>\n",
       "      <td>1</td>\n",
       "      <td>1</td>\n",
       "      <td>1</td>\n",
       "      <td>101348.88</td>\n",
       "      <td>1</td>\n",
       "    </tr>\n",
       "    <tr>\n",
       "      <th>1</th>\n",
       "      <td>2</td>\n",
       "      <td>15647311</td>\n",
       "      <td>Hill</td>\n",
       "      <td>608</td>\n",
       "      <td>Spain</td>\n",
       "      <td>Female</td>\n",
       "      <td>41</td>\n",
       "      <td>1</td>\n",
       "      <td>83807.86</td>\n",
       "      <td>1</td>\n",
       "      <td>0</td>\n",
       "      <td>1</td>\n",
       "      <td>112542.58</td>\n",
       "      <td>0</td>\n",
       "    </tr>\n",
       "    <tr>\n",
       "      <th>2</th>\n",
       "      <td>3</td>\n",
       "      <td>15619304</td>\n",
       "      <td>Onio</td>\n",
       "      <td>502</td>\n",
       "      <td>France</td>\n",
       "      <td>Female</td>\n",
       "      <td>42</td>\n",
       "      <td>8</td>\n",
       "      <td>159660.80</td>\n",
       "      <td>3</td>\n",
       "      <td>1</td>\n",
       "      <td>0</td>\n",
       "      <td>113931.57</td>\n",
       "      <td>1</td>\n",
       "    </tr>\n",
       "    <tr>\n",
       "      <th>3</th>\n",
       "      <td>4</td>\n",
       "      <td>15701354</td>\n",
       "      <td>Boni</td>\n",
       "      <td>699</td>\n",
       "      <td>France</td>\n",
       "      <td>Female</td>\n",
       "      <td>39</td>\n",
       "      <td>1</td>\n",
       "      <td>0.00</td>\n",
       "      <td>2</td>\n",
       "      <td>0</td>\n",
       "      <td>0</td>\n",
       "      <td>93826.63</td>\n",
       "      <td>0</td>\n",
       "    </tr>\n",
       "    <tr>\n",
       "      <th>4</th>\n",
       "      <td>5</td>\n",
       "      <td>15737888</td>\n",
       "      <td>Mitchell</td>\n",
       "      <td>850</td>\n",
       "      <td>Spain</td>\n",
       "      <td>Female</td>\n",
       "      <td>43</td>\n",
       "      <td>2</td>\n",
       "      <td>125510.82</td>\n",
       "      <td>1</td>\n",
       "      <td>1</td>\n",
       "      <td>1</td>\n",
       "      <td>79084.10</td>\n",
       "      <td>0</td>\n",
       "    </tr>\n",
       "  </tbody>\n",
       "</table>\n",
       "</div>"
      ],
      "text/plain": [
       "   RowNumber  CustomerId   Surname  CreditScore Geography  Gender  Age  \\\n",
       "0          1    15634602  Hargrave          619    France  Female   42   \n",
       "1          2    15647311      Hill          608     Spain  Female   41   \n",
       "2          3    15619304      Onio          502    France  Female   42   \n",
       "3          4    15701354      Boni          699    France  Female   39   \n",
       "4          5    15737888  Mitchell          850     Spain  Female   43   \n",
       "\n",
       "   Tenure    Balance  NumOfProducts  HasCrCard  IsActiveMember  \\\n",
       "0       2       0.00              1          1               1   \n",
       "1       1   83807.86              1          0               1   \n",
       "2       8  159660.80              3          1               0   \n",
       "3       1       0.00              2          0               0   \n",
       "4       2  125510.82              1          1               1   \n",
       "\n",
       "   EstimatedSalary  Exited  \n",
       "0        101348.88       1  \n",
       "1        112542.58       0  \n",
       "2        113931.57       1  \n",
       "3         93826.63       0  \n",
       "4         79084.10       0  "
      ]
     },
     "execution_count": 10,
     "metadata": {},
     "output_type": "execute_result"
    }
   ],
   "source": [
    "data = pd.read_csv('Churn_Modelling.csv')\n",
    "data.head()"
   ]
  },
  {
   "cell_type": "code",
   "execution_count": 11,
   "id": "d08c1a36",
   "metadata": {},
   "outputs": [],
   "source": [
    "data = data.drop(['RowNumber', 'CustomerId', 'Surname'], axis = 1)"
   ]
  },
  {
   "cell_type": "code",
   "execution_count": 12,
   "id": "f00bbd17",
   "metadata": {},
   "outputs": [
    {
     "data": {
      "text/html": [
       "<div>\n",
       "<style scoped>\n",
       "    .dataframe tbody tr th:only-of-type {\n",
       "        vertical-align: middle;\n",
       "    }\n",
       "\n",
       "    .dataframe tbody tr th {\n",
       "        vertical-align: top;\n",
       "    }\n",
       "\n",
       "    .dataframe thead th {\n",
       "        text-align: right;\n",
       "    }\n",
       "</style>\n",
       "<table border=\"1\" class=\"dataframe\">\n",
       "  <thead>\n",
       "    <tr style=\"text-align: right;\">\n",
       "      <th></th>\n",
       "      <th>Geography_France</th>\n",
       "      <th>Geography_Germany</th>\n",
       "      <th>Geography_Spain</th>\n",
       "    </tr>\n",
       "  </thead>\n",
       "  <tbody>\n",
       "    <tr>\n",
       "      <th>0</th>\n",
       "      <td>1.0</td>\n",
       "      <td>0.0</td>\n",
       "      <td>0.0</td>\n",
       "    </tr>\n",
       "    <tr>\n",
       "      <th>1</th>\n",
       "      <td>0.0</td>\n",
       "      <td>0.0</td>\n",
       "      <td>1.0</td>\n",
       "    </tr>\n",
       "    <tr>\n",
       "      <th>2</th>\n",
       "      <td>1.0</td>\n",
       "      <td>0.0</td>\n",
       "      <td>0.0</td>\n",
       "    </tr>\n",
       "    <tr>\n",
       "      <th>3</th>\n",
       "      <td>1.0</td>\n",
       "      <td>0.0</td>\n",
       "      <td>0.0</td>\n",
       "    </tr>\n",
       "    <tr>\n",
       "      <th>4</th>\n",
       "      <td>0.0</td>\n",
       "      <td>0.0</td>\n",
       "      <td>1.0</td>\n",
       "    </tr>\n",
       "  </tbody>\n",
       "</table>\n",
       "</div>"
      ],
      "text/plain": [
       "   Geography_France  Geography_Germany  Geography_Spain\n",
       "0               1.0                0.0              0.0\n",
       "1               0.0                0.0              1.0\n",
       "2               1.0                0.0              0.0\n",
       "3               1.0                0.0              0.0\n",
       "4               0.0                0.0              1.0"
      ]
     },
     "execution_count": 12,
     "metadata": {},
     "output_type": "execute_result"
    }
   ],
   "source": [
    "## Encode the categorical Variables\n",
    "label_encoder_gender = LabelEncoder()\n",
    "data['Gender'] = label_encoder_gender.fit_transform(data['Gender'])\n",
    "onehot_encoder_geo = OneHotEncoder()\n",
    "geo_encoder = onehot_encoder_geo.fit_transform(data[['Geography']])\n",
    "geo_encoder = geo_encoder.toarray()\n",
    "geo_encoded_df = pd.DataFrame(geo_encoder, columns=onehot_encoder_geo.get_feature_names_out())\n",
    "geo_encoded_df.head()"
   ]
  },
  {
   "cell_type": "code",
   "execution_count": 13,
   "id": "cdc5896a",
   "metadata": {},
   "outputs": [
    {
     "data": {
      "text/html": [
       "<div>\n",
       "<style scoped>\n",
       "    .dataframe tbody tr th:only-of-type {\n",
       "        vertical-align: middle;\n",
       "    }\n",
       "\n",
       "    .dataframe tbody tr th {\n",
       "        vertical-align: top;\n",
       "    }\n",
       "\n",
       "    .dataframe thead th {\n",
       "        text-align: right;\n",
       "    }\n",
       "</style>\n",
       "<table border=\"1\" class=\"dataframe\">\n",
       "  <thead>\n",
       "    <tr style=\"text-align: right;\">\n",
       "      <th></th>\n",
       "      <th>CreditScore</th>\n",
       "      <th>Gender</th>\n",
       "      <th>Age</th>\n",
       "      <th>Tenure</th>\n",
       "      <th>Balance</th>\n",
       "      <th>NumOfProducts</th>\n",
       "      <th>HasCrCard</th>\n",
       "      <th>IsActiveMember</th>\n",
       "      <th>EstimatedSalary</th>\n",
       "      <th>Exited</th>\n",
       "      <th>Geography_France</th>\n",
       "      <th>Geography_Germany</th>\n",
       "      <th>Geography_Spain</th>\n",
       "    </tr>\n",
       "  </thead>\n",
       "  <tbody>\n",
       "    <tr>\n",
       "      <th>0</th>\n",
       "      <td>619</td>\n",
       "      <td>0</td>\n",
       "      <td>42</td>\n",
       "      <td>2</td>\n",
       "      <td>0.00</td>\n",
       "      <td>1</td>\n",
       "      <td>1</td>\n",
       "      <td>1</td>\n",
       "      <td>101348.88</td>\n",
       "      <td>1</td>\n",
       "      <td>1.0</td>\n",
       "      <td>0.0</td>\n",
       "      <td>0.0</td>\n",
       "    </tr>\n",
       "    <tr>\n",
       "      <th>1</th>\n",
       "      <td>608</td>\n",
       "      <td>0</td>\n",
       "      <td>41</td>\n",
       "      <td>1</td>\n",
       "      <td>83807.86</td>\n",
       "      <td>1</td>\n",
       "      <td>0</td>\n",
       "      <td>1</td>\n",
       "      <td>112542.58</td>\n",
       "      <td>0</td>\n",
       "      <td>0.0</td>\n",
       "      <td>0.0</td>\n",
       "      <td>1.0</td>\n",
       "    </tr>\n",
       "    <tr>\n",
       "      <th>2</th>\n",
       "      <td>502</td>\n",
       "      <td>0</td>\n",
       "      <td>42</td>\n",
       "      <td>8</td>\n",
       "      <td>159660.80</td>\n",
       "      <td>3</td>\n",
       "      <td>1</td>\n",
       "      <td>0</td>\n",
       "      <td>113931.57</td>\n",
       "      <td>1</td>\n",
       "      <td>1.0</td>\n",
       "      <td>0.0</td>\n",
       "      <td>0.0</td>\n",
       "    </tr>\n",
       "    <tr>\n",
       "      <th>3</th>\n",
       "      <td>699</td>\n",
       "      <td>0</td>\n",
       "      <td>39</td>\n",
       "      <td>1</td>\n",
       "      <td>0.00</td>\n",
       "      <td>2</td>\n",
       "      <td>0</td>\n",
       "      <td>0</td>\n",
       "      <td>93826.63</td>\n",
       "      <td>0</td>\n",
       "      <td>1.0</td>\n",
       "      <td>0.0</td>\n",
       "      <td>0.0</td>\n",
       "    </tr>\n",
       "    <tr>\n",
       "      <th>4</th>\n",
       "      <td>850</td>\n",
       "      <td>0</td>\n",
       "      <td>43</td>\n",
       "      <td>2</td>\n",
       "      <td>125510.82</td>\n",
       "      <td>1</td>\n",
       "      <td>1</td>\n",
       "      <td>1</td>\n",
       "      <td>79084.10</td>\n",
       "      <td>0</td>\n",
       "      <td>0.0</td>\n",
       "      <td>0.0</td>\n",
       "      <td>1.0</td>\n",
       "    </tr>\n",
       "  </tbody>\n",
       "</table>\n",
       "</div>"
      ],
      "text/plain": [
       "   CreditScore  Gender  Age  Tenure    Balance  NumOfProducts  HasCrCard  \\\n",
       "0          619       0   42       2       0.00              1          1   \n",
       "1          608       0   41       1   83807.86              1          0   \n",
       "2          502       0   42       8  159660.80              3          1   \n",
       "3          699       0   39       1       0.00              2          0   \n",
       "4          850       0   43       2  125510.82              1          1   \n",
       "\n",
       "   IsActiveMember  EstimatedSalary  Exited  Geography_France  \\\n",
       "0               1        101348.88       1               1.0   \n",
       "1               1        112542.58       0               0.0   \n",
       "2               0        113931.57       1               1.0   \n",
       "3               0         93826.63       0               1.0   \n",
       "4               1         79084.10       0               0.0   \n",
       "\n",
       "   Geography_Germany  Geography_Spain  \n",
       "0                0.0              0.0  \n",
       "1                0.0              1.0  \n",
       "2                0.0              0.0  \n",
       "3                0.0              0.0  \n",
       "4                0.0              1.0  "
      ]
     },
     "execution_count": 13,
     "metadata": {},
     "output_type": "execute_result"
    }
   ],
   "source": [
    "# Combining the encoded columns with the original dataset\n",
    "data = pd.concat([data.drop('Geography', axis=1), geo_encoded_df], axis=1)\n",
    "data.head()"
   ]
  },
  {
   "cell_type": "code",
   "execution_count": 14,
   "id": "6a3b348f",
   "metadata": {},
   "outputs": [],
   "source": [
    "### Splitting the data into independent and dependent features\n",
    "X = data.drop('EstimatedSalary', axis = 1)\n",
    "y = data['EstimatedSalary']"
   ]
  },
  {
   "cell_type": "code",
   "execution_count": 15,
   "id": "1a43e5d4",
   "metadata": {},
   "outputs": [],
   "source": [
    "## Splitting the data into training and testing set\n",
    "X_train, X_test, y_train, y_test = train_test_split(X, y, test_size = 0.2, random_state = 42)"
   ]
  },
  {
   "cell_type": "code",
   "execution_count": 16,
   "id": "85a069bf",
   "metadata": {},
   "outputs": [],
   "source": [
    "## Scaling the features\n",
    "scaler = StandardScaler()\n",
    "X_train = scaler.fit_transform(X_train)\n",
    "X_test = scaler.transform(X_test)"
   ]
  },
  {
   "cell_type": "code",
   "execution_count": 17,
   "id": "5aeb6fc0",
   "metadata": {},
   "outputs": [],
   "source": [
    "## Saving the encoders and scaler\n",
    "with open('label_encoder_gender.pkl', 'wb') as file:\n",
    "    pickle.dump(label_encoder_gender, file)\n",
    "\n",
    "with open('onehot_encoder_geo.pkl', 'wb') as file:\n",
    "    pickle.dump(onehot_encoder_geo, file)\n",
    "\n",
    "with open('scaler.pkl', 'wb') as file:\n",
    "    pickle.dump(scaler, file)"
   ]
  },
  {
   "cell_type": "code",
   "execution_count": 18,
   "id": "7337ca1e",
   "metadata": {},
   "outputs": [
    {
     "name": "stdout",
     "output_type": "stream",
     "text": [
      "WARNING:tensorflow:From c:\\Users\\ADMIN\\anaconda3\\envs\\Newenv\\Lib\\site-packages\\keras\\src\\losses.py:2976: The name tf.losses.sparse_softmax_cross_entropy is deprecated. Please use tf.compat.v1.losses.sparse_softmax_cross_entropy instead.\n",
      "\n"
     ]
    }
   ],
   "source": [
    "## Training the ANN model with respect to the regression problem\n",
    "import tensorflow as tf\n",
    "from tensorflow.keras.models import Sequential\n",
    "from tensorflow.keras.layers import Dense"
   ]
  },
  {
   "cell_type": "code",
   "execution_count": 19,
   "id": "c3790806",
   "metadata": {},
   "outputs": [
    {
     "name": "stdout",
     "output_type": "stream",
     "text": [
      "WARNING:tensorflow:From c:\\Users\\ADMIN\\anaconda3\\envs\\Newenv\\Lib\\site-packages\\keras\\src\\backend.py:873: The name tf.get_default_graph is deprecated. Please use tf.compat.v1.get_default_graph instead.\n",
      "\n",
      "WARNING:tensorflow:From c:\\Users\\ADMIN\\anaconda3\\envs\\Newenv\\Lib\\site-packages\\keras\\src\\optimizers\\__init__.py:309: The name tf.train.Optimizer is deprecated. Please use tf.compat.v1.train.Optimizer instead.\n",
      "\n",
      "Model: \"sequential\"\n",
      "_________________________________________________________________\n",
      " Layer (type)                Output Shape              Param #   \n",
      "=================================================================\n",
      " dense (Dense)               (None, 64)                832       \n",
      "                                                                 \n",
      " dense_1 (Dense)             (None, 64)                4160      \n",
      "                                                                 \n",
      " dense_2 (Dense)             (None, 1)                 65        \n",
      "                                                                 \n",
      "=================================================================\n",
      "Total params: 5057 (19.75 KB)\n",
      "Trainable params: 5057 (19.75 KB)\n",
      "Non-trainable params: 0 (0.00 Byte)\n",
      "_________________________________________________________________\n"
     ]
    }
   ],
   "source": [
    "### Building the model\n",
    "model = Sequential([\n",
    "    Dense(64, activation='relu', input_shape=(X_train.shape[1],)),\n",
    "    Dense(64, activation='relu'),\n",
    "    Dense(1)    ## output layer for regression\n",
    "])\n",
    "\n",
    "## Compiling the model\n",
    "model.compile(optimizer = 'adam', loss = 'mean_absolute_error', metrics = ['mae'])\n",
    "model.summary()"
   ]
  },
  {
   "cell_type": "code",
   "execution_count": 20,
   "id": "6dfa38cd",
   "metadata": {},
   "outputs": [],
   "source": [
    "from tensorflow.keras.callbacks import EarlyStopping, TensorBoard\n",
    "import datetime\n",
    "\n",
    "## Setting up the TensorBoard\n",
    "log_dir = 'regressionlogs/fit/' + datetime.datetime.now().strftime(\"%Y%m%d-%H%M%S\")\n",
    "tensorboard_callback = TensorBoard(log_dir=log_dir, histogram_freq=1)"
   ]
  },
  {
   "cell_type": "code",
   "execution_count": 21,
   "id": "633ef22d",
   "metadata": {},
   "outputs": [],
   "source": [
    "### Setting up EarlyStopping\n",
    "early_stopping_callback = EarlyStopping(monitor='val_loss', patience=10, restore_best_weights=True)"
   ]
  },
  {
   "cell_type": "code",
   "execution_count": 22,
   "id": "fc4ee94b",
   "metadata": {},
   "outputs": [
    {
     "name": "stdout",
     "output_type": "stream",
     "text": [
      "Epoch 1/100\n",
      "WARNING:tensorflow:From c:\\Users\\ADMIN\\anaconda3\\envs\\Newenv\\Lib\\site-packages\\keras\\src\\utils\\tf_utils.py:492: The name tf.ragged.RaggedTensorValue is deprecated. Please use tf.compat.v1.ragged.RaggedTensorValue instead.\n",
      "\n",
      "WARNING:tensorflow:From c:\\Users\\ADMIN\\anaconda3\\envs\\Newenv\\Lib\\site-packages\\keras\\src\\engine\\base_layer_utils.py:384: The name tf.executing_eagerly_outside_functions is deprecated. Please use tf.compat.v1.executing_eagerly_outside_functions instead.\n",
      "\n",
      "250/250 [==============================] - 9s 13ms/step - loss: 100312.0391 - mae: 100312.0391 - val_loss: 98261.8594 - val_mae: 98261.8594\n",
      "Epoch 2/100\n",
      "250/250 [==============================] - 1s 5ms/step - loss: 98664.5312 - mae: 98664.5312 - val_loss: 94990.8516 - val_mae: 94990.8516\n",
      "Epoch 3/100\n",
      "250/250 [==============================] - 1s 5ms/step - loss: 93118.5234 - mae: 93118.5234 - val_loss: 87151.8203 - val_mae: 87151.8203\n",
      "Epoch 4/100\n",
      "250/250 [==============================] - 1s 5ms/step - loss: 83154.1016 - mae: 83154.1016 - val_loss: 75814.0078 - val_mae: 75814.0078\n",
      "Epoch 5/100\n",
      "250/250 [==============================] - 2s 6ms/step - loss: 71013.7188 - mae: 71013.7188 - val_loss: 64400.1016 - val_mae: 64400.1016\n",
      "Epoch 6/100\n",
      "250/250 [==============================] - 1s 5ms/step - loss: 60494.0469 - mae: 60494.0469 - val_loss: 56307.7109 - val_mae: 56307.7109\n",
      "Epoch 7/100\n",
      "250/250 [==============================] - 1s 5ms/step - loss: 54058.6055 - mae: 54058.6055 - val_loss: 52423.0156 - val_mae: 52423.0156\n",
      "Epoch 8/100\n",
      "250/250 [==============================] - 1s 5ms/step - loss: 51272.2188 - mae: 51272.2188 - val_loss: 51106.4648 - val_mae: 51106.4648\n",
      "Epoch 9/100\n",
      "250/250 [==============================] - 1s 5ms/step - loss: 50394.7773 - mae: 50394.7773 - val_loss: 50761.2930 - val_mae: 50761.2930\n",
      "Epoch 10/100\n",
      "250/250 [==============================] - 1s 5ms/step - loss: 50138.8008 - mae: 50138.8008 - val_loss: 50659.8125 - val_mae: 50659.8125\n",
      "Epoch 11/100\n",
      "250/250 [==============================] - 2s 7ms/step - loss: 50030.2812 - mae: 50030.2812 - val_loss: 50605.0312 - val_mae: 50605.0312\n",
      "Epoch 12/100\n",
      "250/250 [==============================] - 1s 5ms/step - loss: 49962.4766 - mae: 49962.4766 - val_loss: 50572.1602 - val_mae: 50572.1602\n",
      "Epoch 13/100\n",
      "250/250 [==============================] - 2s 6ms/step - loss: 49915.5312 - mae: 49915.5312 - val_loss: 50541.1914 - val_mae: 50541.1914\n",
      "Epoch 14/100\n",
      "250/250 [==============================] - 2s 7ms/step - loss: 49871.4609 - mae: 49871.4609 - val_loss: 50514.2148 - val_mae: 50514.2148\n",
      "Epoch 15/100\n",
      "250/250 [==============================] - 2s 8ms/step - loss: 49838.1836 - mae: 49838.1836 - val_loss: 50488.0000 - val_mae: 50488.0000\n",
      "Epoch 16/100\n",
      "250/250 [==============================] - 2s 7ms/step - loss: 49804.5469 - mae: 49804.5469 - val_loss: 50462.8711 - val_mae: 50462.8711\n",
      "Epoch 17/100\n",
      "250/250 [==============================] - 1s 6ms/step - loss: 49778.3750 - mae: 49778.3750 - val_loss: 50451.8828 - val_mae: 50451.8828\n",
      "Epoch 18/100\n",
      "250/250 [==============================] - 1s 5ms/step - loss: 49755.1406 - mae: 49755.1406 - val_loss: 50424.5859 - val_mae: 50424.5859\n",
      "Epoch 19/100\n",
      "250/250 [==============================] - 1s 5ms/step - loss: 49724.3633 - mae: 49724.3633 - val_loss: 50410.0938 - val_mae: 50410.0938\n",
      "Epoch 20/100\n",
      "250/250 [==============================] - 1s 6ms/step - loss: 49702.7617 - mae: 49702.7617 - val_loss: 50404.2617 - val_mae: 50404.2617\n",
      "Epoch 21/100\n",
      "250/250 [==============================] - 1s 6ms/step - loss: 49684.6719 - mae: 49684.6719 - val_loss: 50395.4805 - val_mae: 50395.4805\n",
      "Epoch 22/100\n",
      "250/250 [==============================] - 2s 8ms/step - loss: 49662.2227 - mae: 49662.2227 - val_loss: 50380.1562 - val_mae: 50380.1562\n",
      "Epoch 23/100\n",
      "250/250 [==============================] - 2s 7ms/step - loss: 49649.3398 - mae: 49649.3398 - val_loss: 50375.2969 - val_mae: 50375.2969\n",
      "Epoch 24/100\n",
      "250/250 [==============================] - 1s 5ms/step - loss: 49628.8711 - mae: 49628.8711 - val_loss: 50356.8477 - val_mae: 50356.8477\n",
      "Epoch 25/100\n",
      "250/250 [==============================] - 2s 6ms/step - loss: 49616.3711 - mae: 49616.3711 - val_loss: 50343.3008 - val_mae: 50343.3008\n",
      "Epoch 26/100\n",
      "250/250 [==============================] - 3s 13ms/step - loss: 49602.9414 - mae: 49602.9414 - val_loss: 50338.4648 - val_mae: 50338.4648\n",
      "Epoch 27/100\n",
      "250/250 [==============================] - 1s 6ms/step - loss: 49590.0859 - mae: 49590.0859 - val_loss: 50322.9375 - val_mae: 50322.9375\n",
      "Epoch 28/100\n",
      "250/250 [==============================] - 1s 5ms/step - loss: 49576.6680 - mae: 49576.6680 - val_loss: 50322.1875 - val_mae: 50322.1875\n",
      "Epoch 29/100\n",
      "250/250 [==============================] - 2s 6ms/step - loss: 49567.3164 - mae: 49567.3164 - val_loss: 50307.2656 - val_mae: 50307.2656\n",
      "Epoch 30/100\n",
      "250/250 [==============================] - 1s 5ms/step - loss: 49557.4414 - mae: 49557.4414 - val_loss: 50322.2852 - val_mae: 50322.2852\n",
      "Epoch 31/100\n",
      "250/250 [==============================] - 2s 7ms/step - loss: 49544.4219 - mae: 49544.4219 - val_loss: 50303.9570 - val_mae: 50303.9570\n",
      "Epoch 32/100\n",
      "250/250 [==============================] - 1s 5ms/step - loss: 49535.1211 - mae: 49535.1211 - val_loss: 50318.5352 - val_mae: 50318.5352\n",
      "Epoch 33/100\n",
      "250/250 [==============================] - 2s 7ms/step - loss: 49525.5391 - mae: 49525.5391 - val_loss: 50312.3711 - val_mae: 50312.3711\n",
      "Epoch 34/100\n",
      "250/250 [==============================] - 2s 7ms/step - loss: 49514.8438 - mae: 49514.8438 - val_loss: 50309.6289 - val_mae: 50309.6289\n",
      "Epoch 35/100\n",
      "250/250 [==============================] - 2s 7ms/step - loss: 49508.2188 - mae: 49508.2188 - val_loss: 50304.5977 - val_mae: 50304.5977\n",
      "Epoch 36/100\n",
      "250/250 [==============================] - 2s 6ms/step - loss: 49496.1211 - mae: 49496.1211 - val_loss: 50314.7461 - val_mae: 50314.7461\n",
      "Epoch 37/100\n",
      "250/250 [==============================] - 4s 16ms/step - loss: 49492.2695 - mae: 49492.2695 - val_loss: 50304.8555 - val_mae: 50304.8555\n",
      "Epoch 38/100\n",
      "250/250 [==============================] - 3s 12ms/step - loss: 49482.8633 - mae: 49482.8633 - val_loss: 50292.8633 - val_mae: 50292.8633\n",
      "Epoch 39/100\n",
      "250/250 [==============================] - 2s 9ms/step - loss: 49471.5742 - mae: 49471.5742 - val_loss: 50299.9688 - val_mae: 50299.9688\n",
      "Epoch 40/100\n",
      "250/250 [==============================] - 2s 6ms/step - loss: 49466.6641 - mae: 49466.6641 - val_loss: 50290.8008 - val_mae: 50290.8008\n",
      "Epoch 41/100\n",
      "250/250 [==============================] - 1s 6ms/step - loss: 49460.6289 - mae: 49460.6289 - val_loss: 50305.9531 - val_mae: 50305.9531\n",
      "Epoch 42/100\n",
      "250/250 [==============================] - 2s 6ms/step - loss: 49451.7969 - mae: 49451.7969 - val_loss: 50295.1055 - val_mae: 50295.1055\n",
      "Epoch 43/100\n",
      "250/250 [==============================] - 1s 6ms/step - loss: 49445.2188 - mae: 49445.2188 - val_loss: 50299.7422 - val_mae: 50299.7422\n",
      "Epoch 44/100\n",
      "250/250 [==============================] - 1s 5ms/step - loss: 49440.5156 - mae: 49440.5156 - val_loss: 50318.0586 - val_mae: 50318.0586\n",
      "Epoch 45/100\n",
      "250/250 [==============================] - 2s 7ms/step - loss: 49432.7578 - mae: 49432.7578 - val_loss: 50313.3320 - val_mae: 50313.3320\n",
      "Epoch 46/100\n",
      "250/250 [==============================] - 1s 5ms/step - loss: 49424.6562 - mae: 49424.6562 - val_loss: 50306.1406 - val_mae: 50306.1406\n",
      "Epoch 47/100\n",
      "250/250 [==============================] - 1s 6ms/step - loss: 49419.5742 - mae: 49419.5742 - val_loss: 50312.5898 - val_mae: 50312.5898\n",
      "Epoch 48/100\n",
      "250/250 [==============================] - 2s 6ms/step - loss: 49413.3281 - mae: 49413.3281 - val_loss: 50302.7266 - val_mae: 50302.7266\n",
      "Epoch 49/100\n",
      "250/250 [==============================] - 2s 6ms/step - loss: 49411.5977 - mae: 49411.5977 - val_loss: 50311.4570 - val_mae: 50311.4570\n",
      "Epoch 50/100\n",
      "250/250 [==============================] - 2s 9ms/step - loss: 49404.5703 - mae: 49404.5703 - val_loss: 50305.9805 - val_mae: 50305.9805\n"
     ]
    }
   ],
   "source": [
    "## Training the model\n",
    "history = model.fit(\n",
    "    X_train, y_train,\n",
    "    validation_data = (X_test, y_test),\n",
    "    epochs = 100,\n",
    "    callbacks = [early_stopping_callback, tensorboard_callback]\n",
    ")"
   ]
  },
  {
   "cell_type": "code",
   "execution_count": 23,
   "id": "a7471bda",
   "metadata": {},
   "outputs": [
    {
     "name": "stdout",
     "output_type": "stream",
     "text": [
      "The tensorboard extension is already loaded. To reload it, use:\n",
      "  %reload_ext tensorboard\n"
     ]
    }
   ],
   "source": [
    "%load_ext tensorboard"
   ]
  },
  {
   "cell_type": "code",
   "execution_count": 24,
   "id": "1e3948cc",
   "metadata": {},
   "outputs": [
    {
     "data": {
      "text/plain": [
       "Reusing TensorBoard on port 6006 (pid 11860), started 5 days, 16:22:44 ago. (Use '!kill 11860' to kill it.)"
      ]
     },
     "metadata": {},
     "output_type": "display_data"
    },
    {
     "data": {
      "text/html": [
       "\n",
       "      <iframe id=\"tensorboard-frame-9ed625a1af214681\" width=\"100%\" height=\"800\" frameborder=\"0\">\n",
       "      </iframe>\n",
       "      <script>\n",
       "        (function() {\n",
       "          const frame = document.getElementById(\"tensorboard-frame-9ed625a1af214681\");\n",
       "          const url = new URL(\"http://localhost\");\n",
       "          const port = 6006;\n",
       "          if (port) {\n",
       "            url.port = port;\n",
       "          }\n",
       "          frame.src = url;\n",
       "        })();\n",
       "      </script>\n",
       "    "
      ],
      "text/plain": [
       "<IPython.core.display.HTML object>"
      ]
     },
     "metadata": {},
     "output_type": "display_data"
    }
   ],
   "source": [
    "%tensorboard --logdir regressionlogs/fit"
   ]
  },
  {
   "cell_type": "code",
   "execution_count": 25,
   "id": "ede99bd1",
   "metadata": {},
   "outputs": [
    {
     "name": "stderr",
     "output_type": "stream",
     "text": [
      "kill: 11860: No such process\n"
     ]
    }
   ],
   "source": [
    "!kill 11860"
   ]
  },
  {
   "cell_type": "code",
   "execution_count": 26,
   "id": "c58a239c",
   "metadata": {},
   "outputs": [
    {
     "name": "stdout",
     "output_type": "stream",
     "text": [
      "63/63 [==============================] - 1s 8ms/step - loss: 50290.8008 - mae: 50290.8008\n",
      "The test MAE is: 50290.80078125\n"
     ]
    }
   ],
   "source": [
    "### Evaluating the model on the test data\n",
    "test_loss, test_mae = model.evaluate(X_test, y_test)\n",
    "print(f\"The test MAE is: {test_mae}\")"
   ]
  },
  {
   "cell_type": "code",
   "execution_count": 27,
   "id": "52600618",
   "metadata": {},
   "outputs": [
    {
     "name": "stderr",
     "output_type": "stream",
     "text": [
      "c:\\Users\\ADMIN\\anaconda3\\envs\\Newenv\\Lib\\site-packages\\keras\\src\\engine\\training.py:3103: UserWarning: You are saving your model as an HDF5 file via `model.save()`. This file format is considered legacy. We recommend using instead the native Keras format, e.g. `model.save('my_model.keras')`.\n",
      "  saving_api.save_model(\n"
     ]
    }
   ],
   "source": [
    "model.save('regression_model.h5')"
   ]
  },
  {
   "cell_type": "markdown",
   "id": "e73a6427",
   "metadata": {},
   "source": [
    "#### Finding Optimal Hidden Layer and Hidden Neural Network"
   ]
  },
  {
   "cell_type": "code",
   "execution_count": 29,
   "id": "c5de4afb",
   "metadata": {},
   "outputs": [],
   "source": [
    "import pandas as pd\n",
    "from sklearn.model_selection import train_test_split, GridSearchCV\n",
    "from sklearn.preprocessing import StandardScaler, OneHotEncoder, LabelEncoder\n",
    "from sklearn.pipeline import Pipeline\n",
    "from scikeras.wrappers import KerasClassifier\n",
    "from tensorflow.keras.models import Sequential\n",
    "from tensorflow.keras.layers import Dense\n",
    "from tensorflow.keras.callbacks import EarlyStopping"
   ]
  },
  {
   "cell_type": "code",
   "execution_count": 30,
   "id": "9e517c60",
   "metadata": {},
   "outputs": [],
   "source": [
    "data = pd.read_csv('Churn_Modelling.csv')"
   ]
  },
  {
   "cell_type": "code",
   "execution_count": null,
   "id": "a479384d",
   "metadata": {},
   "outputs": [],
   "source": []
  }
 ],
 "metadata": {
  "kernelspec": {
   "display_name": "Newenv",
   "language": "python",
   "name": "python3"
  },
  "language_info": {
   "codemirror_mode": {
    "name": "ipython",
    "version": 3
   },
   "file_extension": ".py",
   "mimetype": "text/x-python",
   "name": "python",
   "nbconvert_exporter": "python",
   "pygments_lexer": "ipython3",
   "version": "3.11.13"
  }
 },
 "nbformat": 4,
 "nbformat_minor": 5
}
